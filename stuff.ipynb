{
 "cells": [
  {
   "cell_type": "code",
   "execution_count": 9,
   "outputs": [
    {
     "name": "stdout",
     "text": [
      "[[11 12 13 14 15 16 17 18 19 20 21 22 23 86 87 88 89 90 91]\n [ 1 -1 -1 -1 -1 -1 -1  1  1  1 -1 -1 -1  1 -1 -1 -1 -1 -1]]\n139 ['hold', 'sit_on']\n"
     ],
     "output_type": "stream"
    }
   ],
   "source": [
    "import numpy as np\n",
    "\n",
    "from lib.dataset.hico.hico import Hico, Splits\n",
    "\n",
    "hico = Hico()\n",
    "annotations = hico.split_annotations[Splits.TRAIN]\n",
    "\n",
    "for i, imann in enumerate(annotations):\n",
    "    pos_actions = hico.interactions[imann > 0, 0]\n",
    "    neg_actions = hico.interactions[imann < 0, 0]\n",
    "    both = set(pos_actions.tolist()) & set(neg_actions.tolist())\n",
    "    if both:\n",
    "        nzinds = np.flatnonzero(imann)\n",
    "        print(np.stack([nzinds, imann[nzinds]], axis=0).astype(np.int))\n",
    "        print(i, [hico.predicates[p] for p in sorted(both)])\n",
    "        break\n",
    "        "
   ],
   "metadata": {
    "collapsed": false,
    "pycharm": {
     "name": "#%% Random stuff\n",
     "is_executing": false
    }
   }
  },
  {
   "cell_type": "code",
   "execution_count": 17,
   "outputs": [
    {
     "name": "stdout",
     "text": [
      "tensor([[0., 1.],\n        [2., 3.],\n        [4., 5.]], requires_grad=True)\ntensor([[ 0.,  1.],\n        [ 4.,  9.],\n        [16., 25.]], grad_fn=<PowBackward0>)\ntensor([[ 0.,  2.],\n        [ 4.,  6.],\n        [ 8., 10.]])\n\ntensor([[0., 1.],\n        [2., 3.],\n        [4., 5.]], requires_grad=True)\ntensor([[   0.,    1.],\n        [   4., 2342.],\n        [  16.,   25.]], grad_fn=<CopySlices>)\ntensor([[ 0.,  2.],\n        [ 4.,  0.],\n        [ 8., 10.]])\n\ntensor([[0., 1.],\n        [2., 3.],\n        [4., 5.]], requires_grad=True)\ntensor([[ 0.,  1.],\n        [ 4.,  0.],\n        [16., 25.]], grad_fn=<CopySlices>)\ntensor([[ 0.,  2.],\n        [ 4.,  6.],\n        [ 8., 10.]])\n"
     ],
     "output_type": "stream"
    }
   ],
   "source": [
    "import torch\n",
    "x = torch.tensor(torch.from_numpy(np.arange(6).reshape(3, 2)).float(),requires_grad=True)\n",
    "y = x**2\n",
    "z = y.sum()\n",
    "z.backward()\n",
    "print(x) \n",
    "print(y) \n",
    "print(x.grad)\n",
    "\n",
    "print()\n",
    "x = torch.tensor(torch.from_numpy(np.arange(6).reshape(3, 2)).float(),requires_grad=True)\n",
    "y = x**2\n",
    "y[1, 1] = 2342\n",
    "z = y.sum()\n",
    "z.backward()\n",
    "print(x) \n",
    "print(y) \n",
    "print(x.grad) \n",
    "\n",
    "print()\n",
    "x = torch.tensor(torch.from_numpy(np.arange(6).reshape(3, 2)).float(),requires_grad=True)\n",
    "y = x**2\n",
    "y[1, 1] -= 9\n",
    "z = y.sum()\n",
    "z.backward()\n",
    "print(x) \n",
    "print(y) \n",
    "print(x.grad) "
   ],
   "metadata": {
    "collapsed": false,
    "pycharm": {
     "name": "#%% Pytorch 0 loss\n",
     "is_executing": false
    }
   }
  },
  {
   "cell_type": "code",
   "execution_count": 32,
   "metadata": {
    "collapsed": true,
    "pycharm": {
     "is_executing": false,
     "name": "#%% LIS\n"
    }
   },
   "outputs": [
    {
     "data": {
      "text/plain": "<Figure size 432x288 with 1 Axes>",
      "image/png": "[encoded data removed]"
     },
     "metadata": {
      "needs_background": "light"
     },
     "output_type": "display_data"
    }
   ],
   "source": [
    "import numpy as np\n",
    "from matplotlib import pyplot as plt\n",
    "\n",
    "n = 100\n",
    "x = np.arange(n + 1) / n\n",
    "\n",
    "w, k = 30, 18\n",
    "T = 1 + np.exp(k - w).item()\n",
    "y = T / (1 + np.exp(-(w * x - k)))\n",
    "\n",
    "plt.plot(x, y)\n",
    "plt.grid()\n",
    "plt.show()\n"
   ]
  },
  {
   "cell_type": "code",
   "execution_count": 1,
   "outputs": [
    {
     "name": "stdout",
     "text": [
      "['tench', 'Tinca tinca']\n['goldfish', 'Carassius auratus']\n['ear', 'spike', 'capitulum']\n['toilet tissue', 'toilet paper', 'bathroom tissue']\n",
      "{0: '__background__', 1: 'person', 2: 'bicycle', 3: 'car', 4: 'motorcycle', 5: 'airplane', 6: 'bus', 7: 'train', 8: 'truck', 9: 'boat', 10: 'traffic light', 11: 'fire hydrant', 12: 'stop sign', 13: 'parking meter', 14: 'bench', 15: 'bird', 16: 'cat', 17: 'dog', 18: 'horse', 19: 'sheep', 20: 'cow', 21: 'elephant', 22: 'bear', 23: 'zebra', 24: 'giraffe', 25: 'backpack', 26: 'umbrella', 27: 'handbag', 28: 'tie', 29: 'suitcase', 30: 'frisbee', 31: 'skis', 32: 'snowboard', 33: 'sports ball', 34: 'kite', 35: 'baseball bat', 36: 'baseball glove', 37: 'skateboard', 38: 'surfboard', 39: 'tennis racket', 40: 'bottle', 41: 'wine glass', 42: 'cup', 43: 'fork', 44: 'knife', 45: 'spoon', 46: 'bowl', 47: 'banana', 48: 'apple', 49: 'sandwich', 50: 'orange', 51: 'broccoli', 52: 'carrot', 53: 'hot dog', 54: 'pizza', 55: 'donut', 56: 'cake', 57: 'chair', 58: 'couch', 59: 'potted plant', 60: 'bed', 61: 'dining table', 62: 'toilet', 63: 'tv', 64: 'laptop', 65: 'mouse', 66: 'remote', 67: 'keyboard', 68: 'cell phone', 69: 'microwave', 70: 'oven', 71: 'toaster', 72: 'sink', 73: 'refrigerator', 74: 'book', 75: 'clock', 76: 'vase', 77: 'scissors', 78: 'teddy bear', 79: 'hair drier', 80: 'toothbrush'}\n22\n"
     ],
     "output_type": "stream"
    }
   ],
   "source": [
    "with open('imagenet1000classes.txt', 'r') as f:\n",
    "    inet_categories = [' '.join(l.strip('{}, \\n').split()[1:]).strip(\"'\").split(', ') \n",
    "               for l in f.readlines()]\n",
    "print(inet_categories[0])\n",
    "print(inet_categories[1])\n",
    "print(inet_categories[-2])\n",
    "print(inet_categories[-1])\n",
    "\n",
    "from lib.detection.wrappers import COCO_CLASSES\n",
    "print(COCO_CLASSES)\n",
    "\n",
    "common = set(COCO_CLASSES.values()) & {c for cat in inet_categories for c in cat}\n",
    "print(len(common))   \n"
   ],
   "metadata": {
    "collapsed": false,
    "pycharm": {
     "name": "#%% Imagenet vs COCO classes\n",
     "is_executing": false
    }
   }
  },
  {
   "cell_type": "code",
   "execution_count": null,
   "outputs": [],
   "source": [
    "import pickle\n",
    "import numpy as np\n",
    "to_filter = [19, 25, 117, 144, 151, 152, 154, 163, 167, \n",
    "             190, 245, 258, 307, 326, 347, 366, 400, \n",
    "             433, 434, 466, 471, 476, 479, 523, 598]\n",
    "keep = set(range(600)) - set(to_filter)\n",
    "d = {'train': {'inter': np.array(sorted(keep))\n",
    "               }\n",
    "     }\n",
    "with open('zero-shot_inds/seen_inds_2.pkl.push', 'wb') as f:\n",
    "    pickle.dump(d, f)\n",
    "    \n",
    "    "
   ],
   "metadata": {
    "collapsed": false,
    "pycharm": {
     "name": "#%% Seen file #2 (inter only)\n"
    }
   }
  },
  {
   "cell_type": "code",
   "execution_count": 7,
   "outputs": [
    {
     "name": "stdout",
     "text": [
      "22\n"
     ],
     "output_type": "stream"
    }
   ],
   "source": [
    "import pickle\n",
    "import numpy as np\n",
    "from lib.dataset.hico.hico import Hico\n",
    "\n",
    "hico = Hico()\n",
    "num_seen_obj = 40 \n",
    "num_seen_act = 59 \n",
    "\n",
    "with open('imagenet1000classes.txt', 'r') as f:\n",
    "    inet_categories = [' '.join(l.strip('{}, \\n').split()[1:]).strip(\"'\").split(', ') \n",
    "                       for l in f.readlines()]\n",
    "    inet_classes = {c for cat in inet_categories for c in cat}\n",
    "\n",
    "hico_objects = [obj.replace('_', ' ') for obj in hico.objects]\n",
    "common_str = set(hico_objects) & inet_classes\n",
    "common = {i for i, n in enumerate(hico_objects) if n in common_str}\n",
    "print(len(common))\n",
    "hico_only = set(range(hico.num_object_classes)) - common - {hico.human_class}\n",
    "\n",
    "all_num_inters = []\n",
    "all_data = []\n",
    "for i in range(10**5):\n",
    "    np.random.seed(i)\n",
    "    seen_obj = np.random.choice(np.array(list(hico_only)), \n",
    "                                size=num_seen_obj - len(common) - 1, replace=False)\n",
    "    seen_obj = np.sort(np.concatenate([seen_obj, np.array([hico.human_class]), np.array(list(common))]))\n",
    "    assert hico.human_class in seen_obj\n",
    "    \n",
    "    seen_act = np.random.choice(np.arange(1, hico.num_predicates), size=num_seen_act - 1, replace=False)\n",
    "    seen_act = np.sort(np.concatenate([np.array([0]), seen_act]))\n",
    "    \n",
    "    num_inters = (hico.op_pair_to_interaction[seen_obj, :][:, seen_act] >= 0).sum()\n",
    "    all_num_inters.append(num_inters)\n",
    "    all_data.append([seen_obj, seen_act])\n",
    "\n",
    "m = np.argmax(np.array(all_num_inters))\n",
    "num_inters = all_num_inters[m]\n",
    "seen_obj, seen_act = all_data[m]\n",
    "u_seen_obj = np.unique(seen_obj)\n",
    "u_seen_act = np.unique(seen_act)\n",
    "assert seen_obj.size == num_seen_obj and seen_act.size == num_seen_act\n",
    "assert u_seen_obj.size == num_seen_obj and u_seen_act.size == num_seen_act\n",
    "d = {'train': {'obj': seen_obj, 'pred':seen_act}}\n",
    "with open('zero-shot_inds/seen_inds_3.pkl.push', 'wb') as f:\n",
    "    pickle.dump(d, f)\n"
   ],
   "metadata": {
    "collapsed": false,
    "pycharm": {
     "name": "#%% Seen file #3 (obj/pred)\n",
     "is_executing": false
    }
   }
  },
  {
   "cell_type": "code",
   "execution_count": 33,
   "outputs": [
    {
     "name": "stdout",
     "text": [
      "22\n"
     ],
     "output_type": "stream"
    }
   ],
   "source": [
    "import pickle\n",
    "import numpy as np\n",
    "from lib.dataset.hico.hico import Hico\n",
    "\n",
    "hico = Hico()\n",
    "num_seen_obj = 40 \n",
    "num_seen_act = 59 \n",
    "\n",
    "with open('imagenet1000classes.txt', 'r') as f:\n",
    "    inet_categories = [' '.join(l.strip('{}, \\n').split()[1:]).strip(\"'\").split(', ') \n",
    "                       for l in f.readlines()]\n",
    "    inet_classes = {c for cat in inet_categories for c in cat}\n",
    "\n",
    "hico_objects = [obj.replace('_', ' ') for obj in hico.objects]\n",
    "common_str = set(hico_objects) & inet_classes\n",
    "common = {i for i, n in enumerate(hico_objects) if n in common_str}\n",
    "print(len(common))\n",
    "hico_only = set(range(hico.num_object_classes)) - common - {hico.human_class}\n",
    "\n",
    "np.random.seed(42)\n",
    "seen_obj = np.random.choice(np.array(list(hico_only)), \n",
    "                            size=num_seen_obj - len(common) - 1, replace=False)\n",
    "seen_obj = np.sort(np.concatenate([seen_obj, np.array([hico.human_class]), np.array(list(common))]))\n",
    "assert hico.human_class in seen_obj\n",
    "\n",
    "seen_act = np.random.choice(np.arange(1, hico.num_predicates), size=num_seen_act - 1, replace=False)\n",
    "seen_act = np.sort(np.concatenate([np.array([0]), seen_act]))\n",
    "\n",
    "u_seen_obj = np.unique(seen_obj)\n",
    "u_seen_act = np.unique(seen_act)\n",
    "assert seen_obj.size == num_seen_obj and seen_act.size == num_seen_act\n",
    "assert u_seen_obj.size == num_seen_obj and u_seen_act.size == num_seen_act\n",
    "d = {'train': {'obj': seen_obj, 'pred':seen_act}}\n",
    "with open('zero-shot_inds/seen_inds_4.pkl.push', 'wb') as f:\n",
    "    pickle.dump(d, f)\n"
   ],
   "metadata": {
    "collapsed": false,
    "pycharm": {
     "name": "#%% Seen file #4 (obj/pred)\n",
     "is_executing": false
    }
   }
  },
  {
   "cell_type": "code",
   "execution_count": 35,
   "outputs": [
    {
     "name": "stdout",
     "text": [
      "22\n"
     ],
     "output_type": "stream"
    }
   ],
   "source": [
    "import pickle\n",
    "import numpy as np\n",
    "from lib.dataset.hico.hico import Hico\n",
    "\n",
    "hico = Hico()\n",
    "num_seen_obj = 40 \n",
    "num_seen_act = 59 \n",
    "\n",
    "with open('imagenet1000classes.txt', 'r') as f:\n",
    "    inet_categories = [' '.join(l.strip('{}, \\n').split()[1:]).strip(\"'\").split(', ') \n",
    "                       for l in f.readlines()]\n",
    "    inet_classes = {c for cat in inet_categories for c in cat}\n",
    "\n",
    "hico_objects = [obj.replace('_', ' ') for obj in hico.objects]\n",
    "common_str = set(hico_objects) & inet_classes\n",
    "common = {i for i, n in enumerate(hico_objects) if n in common_str}\n",
    "print(len(common))\n",
    "hico_only = set(range(hico.num_object_classes)) - common - {hico.human_class}\n",
    "\n",
    "all_num_inters = []\n",
    "all_data = []\n",
    "for i in range(10**5):\n",
    "    np.random.seed(i)\n",
    "    seen_obj = np.random.choice(np.array(list(hico_only)), \n",
    "                                size=num_seen_obj - len(common) - 1, replace=False)\n",
    "    seen_obj = np.sort(np.concatenate([seen_obj, np.array([hico.human_class]), np.array(list(common))]))\n",
    "    assert hico.human_class in seen_obj\n",
    "    \n",
    "    seen_act = np.random.choice(np.arange(1, hico.num_predicates), size=num_seen_act - 1, replace=False)\n",
    "    seen_act = np.sort(np.concatenate([np.array([0]), seen_act]))\n",
    "    \n",
    "    num_inters = (hico.op_pair_to_interaction[seen_obj, :][:, seen_act] >= 0).sum()\n",
    "    all_num_inters.append(num_inters)\n",
    "    all_data.append([seen_obj, seen_act])\n",
    "\n",
    "m = np.argmin(np.array(all_num_inters))\n",
    "num_inters = all_num_inters[m]\n",
    "seen_obj, seen_act = all_data[m]\n",
    "u_seen_obj = np.unique(seen_obj)\n",
    "u_seen_act = np.unique(seen_act)\n",
    "assert seen_obj.size == num_seen_obj and seen_act.size == num_seen_act\n",
    "assert u_seen_obj.size == num_seen_obj and u_seen_act.size == num_seen_act\n",
    "d = {'train': {'obj': seen_obj, 'pred':seen_act}}\n",
    "with open('zero-shot_inds/seen_inds_5.pkl.push', 'wb') as f:\n",
    "    pickle.dump(d, f)"
   ],
   "metadata": {
    "collapsed": false,
    "pycharm": {
     "name": "#%% Seen file #5 (obj/pred)\n",
     "is_executing": false
    }
   }
  },
  {
   "cell_type": "code",
   "execution_count": 1,
   "outputs": [
    {
     "name": "stdout",
     "text": [
      "87\n"
     ],
     "output_type": "stream"
    }
   ],
   "source": [
    "import pickle\n",
    "from lib.dataset.hico.hico import Hico\n",
    "fnum = 5\n",
    "d = pickle.load(open(f'zero-shot_inds/seen_inds_{fnum}.pkl.push', 'rb'))\n",
    "pinds = d['train']['pred']\n",
    "oinds = d['train']['obj']\n",
    "\n",
    "hd = Hico()\n",
    "print((hd.op_pair_to_interaction[oinds, :][:, pinds] >= 0).sum())\n"
   ],
   "metadata": {
    "collapsed": false,
    "pycharm": {
     "name": "#%% Number unseen (obj/pred)\n",
     "is_executing": false
    }
   }
  },
  {
   "cell_type": "code",
   "execution_count": 16,
   "outputs": [
    {
     "name": "stdout",
     "text": [
      "107668\n"
     ],
     "output_type": "stream"
    }
   ],
   "source": [
    "import pickle\n",
    "from lib.dataset.hicodet.hicodet import HicoDet\n",
    "from lib.dataset.utils import Splits\n",
    "d = pickle.load(open('zero-shot_inds/seen_inds_2.pkl.push', 'rb'))\n",
    "iinds = d['train']['inter']\n",
    "\n",
    "hd = HicoDet()\n",
    "oi = np.concatenate([np.stack([x.box_classes[x.hois[:, 2]], x.hois[:, 1]], axis=1) \n",
    "                       for x in hd.split_data[Splits.TRAIN]], axis=0)\n",
    "inters = hd.op_pair_to_interaction[oi[:, 0], oi[:, 1]]\n",
    "imask = np.zeros(600, dtype=int)\n",
    "imask[iinds] = 1\n",
    "print(imask[inters].sum())\n",
    "\n"
   ],
   "metadata": {
    "collapsed": false,
    "pycharm": {
     "name": "#%% Number unseen (inter)\n",
     "is_executing": false
    }
   }
  },
  {
   "cell_type": "code",
   "execution_count": 4,
   "outputs": [
    {
     "name": "stdout",
     "text": [
      "A young woman is seen standing in a room and leads into her dancing.\n"
     ],
     "output_type": "stream"
    }
   ],
   "source": [
    "import json\n",
    "d = json.load(open('data/VideoCaptions/train.json', 'r'))\n",
    "captions = [s for v in d.values() for s in v['sentences']]\n",
    "print(captions[0])\n",
    " "
   ],
   "metadata": {
    "collapsed": false,
    "pycharm": {
     "name": "#%% VideoCaptions dataset captions\n",
     "is_executing": false
    }
   }
  }
 ],
 "metadata": {
  "language_info": {
   "codemirror_mode": {
    "name": "ipython",
    "version": 2
   },
   "file_extension": ".py",
   "mimetype": "text/x-python",
   "name": "python",
   "nbconvert_exporter": "python",
   "pygments_lexer": "ipython2",
   "version": "2.7.6"
  },
  "kernelspec": {
   "name": "python3",
   "language": "python",
   "display_name": "Python 3"
  },
  "pycharm": {
   "stem_cell": {
    "cell_type": "raw",
    "source": [],
    "metadata": {
     "collapsed": false
    }
   }
  }
 },
 "nbformat": 4,
 "nbformat_minor": 0
}